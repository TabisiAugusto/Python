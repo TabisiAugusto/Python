{
 "cells": [
  {
   "cell_type": "code",
   "execution_count": 1,
   "id": "8c471f74",
   "metadata": {
    "execution": {
     "iopub.execute_input": "2023-12-29T13:05:36.234775Z",
     "iopub.status.busy": "2023-12-29T13:05:36.233610Z",
     "iopub.status.idle": "2023-12-29T13:05:38.416849Z",
     "shell.execute_reply": "2023-12-29T13:05:38.415873Z"
    },
    "papermill": {
     "duration": 2.193936,
     "end_time": "2023-12-29T13:05:38.419123",
     "exception": false,
     "start_time": "2023-12-29T13:05:36.225187",
     "status": "completed"
    },
    "tags": []
   },
   "outputs": [
    {
     "name": "stderr",
     "output_type": "stream",
     "text": [
      "/tmp/ipykernel_19/1202959869.py:8: DtypeWarning: Columns (6) have mixed types. Specify dtype option on import or set low_memory=False.\n",
      "  df = pd.read_csv(\"/kaggle/input/e-commerce-website-logs/E-commerce Website Logs.csv\")\n"
     ]
    },
    {
     "data": {
      "text/html": [
       "<div>\n",
       "<style scoped>\n",
       "    .dataframe tbody tr th:only-of-type {\n",
       "        vertical-align: middle;\n",
       "    }\n",
       "\n",
       "    .dataframe tbody tr th {\n",
       "        vertical-align: top;\n",
       "    }\n",
       "\n",
       "    .dataframe thead th {\n",
       "        text-align: right;\n",
       "    }\n",
       "</style>\n",
       "<table border=\"1\" class=\"dataframe\">\n",
       "  <thead>\n",
       "    <tr style=\"text-align: right;\">\n",
       "      <th></th>\n",
       "      <th>accessed_date</th>\n",
       "      <th>duration_(secs)</th>\n",
       "      <th>network_protocol</th>\n",
       "      <th>ip</th>\n",
       "      <th>bytes</th>\n",
       "      <th>accessed_Ffom</th>\n",
       "      <th>age</th>\n",
       "      <th>gender</th>\n",
       "      <th>country</th>\n",
       "      <th>membership</th>\n",
       "      <th>language</th>\n",
       "      <th>sales</th>\n",
       "      <th>returned</th>\n",
       "      <th>returned_amount</th>\n",
       "      <th>pay_method</th>\n",
       "    </tr>\n",
       "  </thead>\n",
       "  <tbody>\n",
       "    <tr>\n",
       "      <th>0</th>\n",
       "      <td>2017-03-14 17:43:57.172</td>\n",
       "      <td>2533</td>\n",
       "      <td>TCP</td>\n",
       "      <td>1.10.195.126</td>\n",
       "      <td>20100</td>\n",
       "      <td>Chrome</td>\n",
       "      <td>28</td>\n",
       "      <td>Female</td>\n",
       "      <td>CA</td>\n",
       "      <td>Normal</td>\n",
       "      <td>English</td>\n",
       "      <td>261.9600</td>\n",
       "      <td>No</td>\n",
       "      <td>0.0</td>\n",
       "      <td>Credit Card</td>\n",
       "    </tr>\n",
       "    <tr>\n",
       "      <th>1</th>\n",
       "      <td>2017-03-14 17:43:57.172</td>\n",
       "      <td>4034</td>\n",
       "      <td>TCP</td>\n",
       "      <td>1.1.217.211</td>\n",
       "      <td>20500</td>\n",
       "      <td>Mozilla Firefox</td>\n",
       "      <td>21</td>\n",
       "      <td>Male</td>\n",
       "      <td>AR</td>\n",
       "      <td>Normal</td>\n",
       "      <td>English</td>\n",
       "      <td>731.9400</td>\n",
       "      <td>No</td>\n",
       "      <td>0.0</td>\n",
       "      <td>Debit Card</td>\n",
       "    </tr>\n",
       "    <tr>\n",
       "      <th>2</th>\n",
       "      <td>2017-03-14 17:43:26.135</td>\n",
       "      <td>1525</td>\n",
       "      <td>TCP</td>\n",
       "      <td>1.115.198.107</td>\n",
       "      <td>90100</td>\n",
       "      <td>Mozilla Firefox</td>\n",
       "      <td>20</td>\n",
       "      <td>Male</td>\n",
       "      <td>PL</td>\n",
       "      <td>Normal</td>\n",
       "      <td>English</td>\n",
       "      <td>14.6200</td>\n",
       "      <td>No</td>\n",
       "      <td>0.0</td>\n",
       "      <td>Cash</td>\n",
       "    </tr>\n",
       "    <tr>\n",
       "      <th>3</th>\n",
       "      <td>2017-03-14 17:43:26.135</td>\n",
       "      <td>4572</td>\n",
       "      <td>TCP</td>\n",
       "      <td>1.121.152.143</td>\n",
       "      <td>100300</td>\n",
       "      <td>Mozilla Firefox</td>\n",
       "      <td>66</td>\n",
       "      <td>Female</td>\n",
       "      <td>IN</td>\n",
       "      <td>Normal</td>\n",
       "      <td>Spanish</td>\n",
       "      <td>957.5775</td>\n",
       "      <td>No</td>\n",
       "      <td>0.0</td>\n",
       "      <td>Credit Card</td>\n",
       "    </tr>\n",
       "    <tr>\n",
       "      <th>4</th>\n",
       "      <td>2017-03-14 18:17:09.005</td>\n",
       "      <td>3652</td>\n",
       "      <td>TCP</td>\n",
       "      <td>1.123.135.213</td>\n",
       "      <td>270200</td>\n",
       "      <td>Mozilla Firefox</td>\n",
       "      <td>53</td>\n",
       "      <td>Female</td>\n",
       "      <td>KR</td>\n",
       "      <td>Normal</td>\n",
       "      <td>Spanish</td>\n",
       "      <td>22.3680</td>\n",
       "      <td>No</td>\n",
       "      <td>0.0</td>\n",
       "      <td>Cash</td>\n",
       "    </tr>\n",
       "  </tbody>\n",
       "</table>\n",
       "</div>"
      ],
      "text/plain": [
       "             accessed_date  duration_(secs) network_protocol             ip  \\\n",
       "0  2017-03-14 17:43:57.172             2533            TCP     1.10.195.126   \n",
       "1  2017-03-14 17:43:57.172             4034            TCP      1.1.217.211   \n",
       "2  2017-03-14 17:43:26.135             1525            TCP    1.115.198.107   \n",
       "3  2017-03-14 17:43:26.135             4572            TCP    1.121.152.143   \n",
       "4  2017-03-14 18:17:09.005             3652            TCP    1.123.135.213   \n",
       "\n",
       "    bytes    accessed_Ffom age  gender country membership language     sales  \\\n",
       "0   20100           Chrome  28  Female      CA     Normal  English  261.9600   \n",
       "1   20500  Mozilla Firefox  21    Male      AR     Normal  English  731.9400   \n",
       "2   90100  Mozilla Firefox  20    Male      PL     Normal  English   14.6200   \n",
       "3  100300  Mozilla Firefox  66  Female      IN     Normal  Spanish  957.5775   \n",
       "4  270200  Mozilla Firefox  53  Female      KR     Normal  Spanish   22.3680   \n",
       "\n",
       "  returned  returned_amount   pay_method  \n",
       "0       No              0.0  Credit Card  \n",
       "1       No              0.0   Debit Card  \n",
       "2       No              0.0         Cash  \n",
       "3       No              0.0  Credit Card  \n",
       "4       No              0.0         Cash  "
      ]
     },
     "execution_count": 1,
     "metadata": {},
     "output_type": "execute_result"
    }
   ],
   "source": [
    "import pandas as pd \n",
    "import numpy as np \n",
    "import matplotlib\n",
    "import matplotlib.pyplot as plt \n",
    "import seaborn as sns \n",
    "color = sns.color_palette()\n",
    "\n",
    "df = pd.read_csv(\"/kaggle/input/e-commerce-website-logs/E-commerce Website Logs.csv\")\n",
    "df.head(5)"
   ]
  },
  {
   "cell_type": "code",
   "execution_count": 2,
   "id": "aafd67f6",
   "metadata": {
    "execution": {
     "iopub.execute_input": "2023-12-29T13:05:38.434203Z",
     "iopub.status.busy": "2023-12-29T13:05:38.433807Z",
     "iopub.status.idle": "2023-12-29T13:05:38.438512Z",
     "shell.execute_reply": "2023-12-29T13:05:38.437601Z"
    },
    "papermill": {
     "duration": 0.01459,
     "end_time": "2023-12-29T13:05:38.440510",
     "exception": false,
     "start_time": "2023-12-29T13:05:38.425920",
     "status": "completed"
    },
    "tags": []
   },
   "outputs": [],
   "source": [
    "# Analisis exploratorio de los datos"
   ]
  },
  {
   "cell_type": "code",
   "execution_count": 3,
   "id": "887728e2",
   "metadata": {
    "execution": {
     "iopub.execute_input": "2023-12-29T13:05:38.455078Z",
     "iopub.status.busy": "2023-12-29T13:05:38.454754Z",
     "iopub.status.idle": "2023-12-29T13:05:38.608561Z",
     "shell.execute_reply": "2023-12-29T13:05:38.607330Z"
    },
    "papermill": {
     "duration": 0.16344,
     "end_time": "2023-12-29T13:05:38.610502",
     "exception": false,
     "start_time": "2023-12-29T13:05:38.447062",
     "status": "completed"
    },
    "tags": []
   },
   "outputs": [
    {
     "name": "stdout",
     "output_type": "stream",
     "text": [
      "<class 'pandas.core.frame.DataFrame'>\n",
      "RangeIndex: 172838 entries, 0 to 172837\n",
      "Data columns (total 15 columns):\n",
      " #   Column            Non-Null Count   Dtype  \n",
      "---  ------            --------------   -----  \n",
      " 0   accessed_date     172838 non-null  object \n",
      " 1   duration_(secs)   172838 non-null  int64  \n",
      " 2   network_protocol  172838 non-null  object \n",
      " 3   ip                172838 non-null  object \n",
      " 4   bytes             172838 non-null  int64  \n",
      " 5   accessed_Ffom     172838 non-null  object \n",
      " 6   age               99457 non-null   object \n",
      " 7   gender            172838 non-null  object \n",
      " 8   country           172838 non-null  object \n",
      " 9   membership        172838 non-null  object \n",
      " 10  language          172838 non-null  object \n",
      " 11  sales             172838 non-null  float64\n",
      " 12  returned          172838 non-null  object \n",
      " 13  returned_amount   172838 non-null  float64\n",
      " 14  pay_method        172838 non-null  object \n",
      "dtypes: float64(2), int64(2), object(11)\n",
      "memory usage: 19.8+ MB\n"
     ]
    }
   ],
   "source": [
    "df.info()"
   ]
  },
  {
   "cell_type": "code",
   "execution_count": 4,
   "id": "91302564",
   "metadata": {
    "execution": {
     "iopub.execute_input": "2023-12-29T13:05:38.626490Z",
     "iopub.status.busy": "2023-12-29T13:05:38.626116Z",
     "iopub.status.idle": "2023-12-29T13:05:38.631684Z",
     "shell.execute_reply": "2023-12-29T13:05:38.630902Z"
    },
    "papermill": {
     "duration": 0.016404,
     "end_time": "2023-12-29T13:05:38.633736",
     "exception": false,
     "start_time": "2023-12-29T13:05:38.617332",
     "status": "completed"
    },
    "tags": []
   },
   "outputs": [
    {
     "data": {
      "text/plain": [
       "(172838, 15)"
      ]
     },
     "execution_count": 4,
     "metadata": {},
     "output_type": "execute_result"
    }
   ],
   "source": [
    "df.shape"
   ]
  },
  {
   "cell_type": "code",
   "execution_count": 5,
   "id": "eb50602d",
   "metadata": {
    "execution": {
     "iopub.execute_input": "2023-12-29T13:05:38.651802Z",
     "iopub.status.busy": "2023-12-29T13:05:38.651046Z",
     "iopub.status.idle": "2023-12-29T13:05:38.684596Z",
     "shell.execute_reply": "2023-12-29T13:05:38.683491Z"
    },
    "papermill": {
     "duration": 0.045364,
     "end_time": "2023-12-29T13:05:38.687328",
     "exception": false,
     "start_time": "2023-12-29T13:05:38.641964",
     "status": "completed"
    },
    "tags": []
   },
   "outputs": [
    {
     "data": {
      "text/html": [
       "<div>\n",
       "<style scoped>\n",
       "    .dataframe tbody tr th:only-of-type {\n",
       "        vertical-align: middle;\n",
       "    }\n",
       "\n",
       "    .dataframe tbody tr th {\n",
       "        vertical-align: top;\n",
       "    }\n",
       "\n",
       "    .dataframe thead th {\n",
       "        text-align: right;\n",
       "    }\n",
       "</style>\n",
       "<table border=\"1\" class=\"dataframe\">\n",
       "  <thead>\n",
       "    <tr style=\"text-align: right;\">\n",
       "      <th></th>\n",
       "      <th>accessed_date</th>\n",
       "      <th>duration_(secs)</th>\n",
       "      <th>accessed_Ffom</th>\n",
       "      <th>age</th>\n",
       "      <th>gender</th>\n",
       "      <th>country</th>\n",
       "      <th>membership</th>\n",
       "      <th>language</th>\n",
       "      <th>sales</th>\n",
       "      <th>returned</th>\n",
       "      <th>returned_amount</th>\n",
       "      <th>pay_method</th>\n",
       "    </tr>\n",
       "  </thead>\n",
       "  <tbody>\n",
       "    <tr>\n",
       "      <th>0</th>\n",
       "      <td>2017-03-14 17:43:57.172</td>\n",
       "      <td>2533</td>\n",
       "      <td>Chrome</td>\n",
       "      <td>28</td>\n",
       "      <td>Female</td>\n",
       "      <td>CA</td>\n",
       "      <td>Normal</td>\n",
       "      <td>English</td>\n",
       "      <td>261.9600</td>\n",
       "      <td>No</td>\n",
       "      <td>0.0</td>\n",
       "      <td>Credit Card</td>\n",
       "    </tr>\n",
       "    <tr>\n",
       "      <th>1</th>\n",
       "      <td>2017-03-14 17:43:57.172</td>\n",
       "      <td>4034</td>\n",
       "      <td>Mozilla Firefox</td>\n",
       "      <td>21</td>\n",
       "      <td>Male</td>\n",
       "      <td>AR</td>\n",
       "      <td>Normal</td>\n",
       "      <td>English</td>\n",
       "      <td>731.9400</td>\n",
       "      <td>No</td>\n",
       "      <td>0.0</td>\n",
       "      <td>Debit Card</td>\n",
       "    </tr>\n",
       "    <tr>\n",
       "      <th>2</th>\n",
       "      <td>2017-03-14 17:43:26.135</td>\n",
       "      <td>1525</td>\n",
       "      <td>Mozilla Firefox</td>\n",
       "      <td>20</td>\n",
       "      <td>Male</td>\n",
       "      <td>PL</td>\n",
       "      <td>Normal</td>\n",
       "      <td>English</td>\n",
       "      <td>14.6200</td>\n",
       "      <td>No</td>\n",
       "      <td>0.0</td>\n",
       "      <td>Cash</td>\n",
       "    </tr>\n",
       "    <tr>\n",
       "      <th>3</th>\n",
       "      <td>2017-03-14 17:43:26.135</td>\n",
       "      <td>4572</td>\n",
       "      <td>Mozilla Firefox</td>\n",
       "      <td>66</td>\n",
       "      <td>Female</td>\n",
       "      <td>IN</td>\n",
       "      <td>Normal</td>\n",
       "      <td>Spanish</td>\n",
       "      <td>957.5775</td>\n",
       "      <td>No</td>\n",
       "      <td>0.0</td>\n",
       "      <td>Credit Card</td>\n",
       "    </tr>\n",
       "    <tr>\n",
       "      <th>4</th>\n",
       "      <td>2017-03-14 18:17:09.005</td>\n",
       "      <td>3652</td>\n",
       "      <td>Mozilla Firefox</td>\n",
       "      <td>53</td>\n",
       "      <td>Female</td>\n",
       "      <td>KR</td>\n",
       "      <td>Normal</td>\n",
       "      <td>Spanish</td>\n",
       "      <td>22.3680</td>\n",
       "      <td>No</td>\n",
       "      <td>0.0</td>\n",
       "      <td>Cash</td>\n",
       "    </tr>\n",
       "  </tbody>\n",
       "</table>\n",
       "</div>"
      ],
      "text/plain": [
       "             accessed_date  duration_(secs)    accessed_Ffom age  gender  \\\n",
       "0  2017-03-14 17:43:57.172             2533           Chrome  28  Female   \n",
       "1  2017-03-14 17:43:57.172             4034  Mozilla Firefox  21    Male   \n",
       "2  2017-03-14 17:43:26.135             1525  Mozilla Firefox  20    Male   \n",
       "3  2017-03-14 17:43:26.135             4572  Mozilla Firefox  66  Female   \n",
       "4  2017-03-14 18:17:09.005             3652  Mozilla Firefox  53  Female   \n",
       "\n",
       "  country membership language     sales returned  returned_amount   pay_method  \n",
       "0      CA     Normal  English  261.9600       No              0.0  Credit Card  \n",
       "1      AR     Normal  English  731.9400       No              0.0   Debit Card  \n",
       "2      PL     Normal  English   14.6200       No              0.0         Cash  \n",
       "3      IN     Normal  Spanish  957.5775       No              0.0  Credit Card  \n",
       "4      KR     Normal  Spanish   22.3680       No              0.0         Cash  "
      ]
     },
     "execution_count": 5,
     "metadata": {},
     "output_type": "execute_result"
    }
   ],
   "source": [
    "df1 = df.drop(columns = ['ip', 'bytes', 'network_protocol'])\n",
    "df1.head()"
   ]
  },
  {
   "cell_type": "code",
   "execution_count": 6,
   "id": "a5a212e8",
   "metadata": {
    "execution": {
     "iopub.execute_input": "2023-12-29T13:05:38.703067Z",
     "iopub.status.busy": "2023-12-29T13:05:38.702701Z",
     "iopub.status.idle": "2023-12-29T13:05:38.743040Z",
     "shell.execute_reply": "2023-12-29T13:05:38.742014Z"
    },
    "papermill": {
     "duration": 0.051292,
     "end_time": "2023-12-29T13:05:38.745850",
     "exception": false,
     "start_time": "2023-12-29T13:05:38.694558",
     "status": "completed"
    },
    "tags": []
   },
   "outputs": [
    {
     "data": {
      "text/html": [
       "<div>\n",
       "<style scoped>\n",
       "    .dataframe tbody tr th:only-of-type {\n",
       "        vertical-align: middle;\n",
       "    }\n",
       "\n",
       "    .dataframe tbody tr th {\n",
       "        vertical-align: top;\n",
       "    }\n",
       "\n",
       "    .dataframe thead th {\n",
       "        text-align: right;\n",
       "    }\n",
       "</style>\n",
       "<table border=\"1\" class=\"dataframe\">\n",
       "  <thead>\n",
       "    <tr style=\"text-align: right;\">\n",
       "      <th></th>\n",
       "      <th>duration_(secs)</th>\n",
       "      <th>sales</th>\n",
       "      <th>returned_amount</th>\n",
       "    </tr>\n",
       "  </thead>\n",
       "  <tbody>\n",
       "    <tr>\n",
       "      <th>count</th>\n",
       "      <td>172838.000000</td>\n",
       "      <td>172838.000000</td>\n",
       "      <td>172838.000000</td>\n",
       "    </tr>\n",
       "    <tr>\n",
       "      <th>mean</th>\n",
       "      <td>3248.031827</td>\n",
       "      <td>411.346449</td>\n",
       "      <td>74.012092</td>\n",
       "    </tr>\n",
       "    <tr>\n",
       "      <th>std</th>\n",
       "      <td>1010.872270</td>\n",
       "      <td>785.537868</td>\n",
       "      <td>364.446435</td>\n",
       "    </tr>\n",
       "    <tr>\n",
       "      <th>min</th>\n",
       "      <td>1500.000000</td>\n",
       "      <td>0.000000</td>\n",
       "      <td>0.000000</td>\n",
       "    </tr>\n",
       "    <tr>\n",
       "      <th>25%</th>\n",
       "      <td>2371.000000</td>\n",
       "      <td>5.230000</td>\n",
       "      <td>0.000000</td>\n",
       "    </tr>\n",
       "    <tr>\n",
       "      <th>50%</th>\n",
       "      <td>3246.000000</td>\n",
       "      <td>46.920000</td>\n",
       "      <td>0.000000</td>\n",
       "    </tr>\n",
       "    <tr>\n",
       "      <th>75%</th>\n",
       "      <td>4124.000000</td>\n",
       "      <td>600.160000</td>\n",
       "      <td>0.000000</td>\n",
       "    </tr>\n",
       "    <tr>\n",
       "      <th>max</th>\n",
       "      <td>5000.000000</td>\n",
       "      <td>11199.968000</td>\n",
       "      <td>22638.480000</td>\n",
       "    </tr>\n",
       "  </tbody>\n",
       "</table>\n",
       "</div>"
      ],
      "text/plain": [
       "       duration_(secs)          sales  returned_amount\n",
       "count    172838.000000  172838.000000    172838.000000\n",
       "mean       3248.031827     411.346449        74.012092\n",
       "std        1010.872270     785.537868       364.446435\n",
       "min        1500.000000       0.000000         0.000000\n",
       "25%        2371.000000       5.230000         0.000000\n",
       "50%        3246.000000      46.920000         0.000000\n",
       "75%        4124.000000     600.160000         0.000000\n",
       "max        5000.000000   11199.968000     22638.480000"
      ]
     },
     "execution_count": 6,
     "metadata": {},
     "output_type": "execute_result"
    }
   ],
   "source": [
    "df1.describe()"
   ]
  },
  {
   "cell_type": "code",
   "execution_count": 7,
   "id": "5fdfa311",
   "metadata": {
    "execution": {
     "iopub.execute_input": "2023-12-29T13:05:38.762072Z",
     "iopub.status.busy": "2023-12-29T13:05:38.761746Z",
     "iopub.status.idle": "2023-12-29T13:05:38.814265Z",
     "shell.execute_reply": "2023-12-29T13:05:38.813272Z"
    },
    "papermill": {
     "duration": 0.062612,
     "end_time": "2023-12-29T13:05:38.816024",
     "exception": false,
     "start_time": "2023-12-29T13:05:38.753412",
     "status": "completed"
    },
    "tags": []
   },
   "outputs": [
    {
     "data": {
      "text/plain": [
       "accessed_date          0\n",
       "duration_(secs)        0\n",
       "accessed_Ffom          0\n",
       "age                73381\n",
       "gender                 0\n",
       "country                0\n",
       "membership             0\n",
       "language               0\n",
       "sales                  0\n",
       "returned               0\n",
       "returned_amount        0\n",
       "pay_method             0\n",
       "dtype: int64"
      ]
     },
     "execution_count": 7,
     "metadata": {},
     "output_type": "execute_result"
    }
   ],
   "source": [
    "# Vemos posibles valores faltantes\n",
    "df1.isnull().sum()"
   ]
  },
  {
   "cell_type": "code",
   "execution_count": 8,
   "id": "d4c74825",
   "metadata": {
    "execution": {
     "iopub.execute_input": "2023-12-29T13:05:38.831965Z",
     "iopub.status.busy": "2023-12-29T13:05:38.831620Z",
     "iopub.status.idle": "2023-12-29T13:05:38.885274Z",
     "shell.execute_reply": "2023-12-29T13:05:38.884063Z"
    },
    "papermill": {
     "duration": 0.063893,
     "end_time": "2023-12-29T13:05:38.887229",
     "exception": false,
     "start_time": "2023-12-29T13:05:38.823336",
     "status": "completed"
    },
    "tags": []
   },
   "outputs": [
    {
     "data": {
      "text/plain": [
       "accessed_date      0.000000\n",
       "duration_(secs)    0.000000\n",
       "accessed_Ffom      0.000000\n",
       "age                0.424565\n",
       "gender             0.000000\n",
       "country            0.000000\n",
       "membership         0.000000\n",
       "language           0.000000\n",
       "sales              0.000000\n",
       "returned           0.000000\n",
       "returned_amount    0.000000\n",
       "pay_method         0.000000\n",
       "dtype: float64"
      ]
     },
     "execution_count": 8,
     "metadata": {},
     "output_type": "execute_result"
    }
   ],
   "source": [
    "# Edad presenta un gran numero de datos faltantes\n",
    "missing_proportions = df1.isnull().mean()\n",
    "missing_proportions"
   ]
  },
  {
   "cell_type": "code",
   "execution_count": 9,
   "id": "4775203e",
   "metadata": {
    "execution": {
     "iopub.execute_input": "2023-12-29T13:05:38.902958Z",
     "iopub.status.busy": "2023-12-29T13:05:38.902683Z",
     "iopub.status.idle": "2023-12-29T13:05:38.906490Z",
     "shell.execute_reply": "2023-12-29T13:05:38.905658Z"
    },
    "papermill": {
     "duration": 0.013604,
     "end_time": "2023-12-29T13:05:38.908158",
     "exception": false,
     "start_time": "2023-12-29T13:05:38.894554",
     "status": "completed"
    },
    "tags": []
   },
   "outputs": [],
   "source": [
    "# Casi un 45% de los datos de edad son nulos. Denota el primer problema a solucionar\n",
    "# Se podria utilizar algun metodo para imputar las edades faltantes pero en mi caso opto directamente por descartarlas ya que la muestra sigue siendo grande. "
   ]
  },
  {
   "cell_type": "code",
   "execution_count": 10,
   "id": "bda9a89f",
   "metadata": {
    "execution": {
     "iopub.execute_input": "2023-12-29T13:05:38.923596Z",
     "iopub.status.busy": "2023-12-29T13:05:38.923227Z",
     "iopub.status.idle": "2023-12-29T13:05:38.949560Z",
     "shell.execute_reply": "2023-12-29T13:05:38.948088Z"
    },
    "papermill": {
     "duration": 0.036701,
     "end_time": "2023-12-29T13:05:38.952038",
     "exception": false,
     "start_time": "2023-12-29T13:05:38.915337",
     "status": "completed"
    },
    "tags": []
   },
   "outputs": [],
   "source": [
    "df1.dropna(subset=['age'], inplace=True)"
   ]
  },
  {
   "cell_type": "code",
   "execution_count": 11,
   "id": "23b3845f",
   "metadata": {
    "execution": {
     "iopub.execute_input": "2023-12-29T13:05:38.969383Z",
     "iopub.status.busy": "2023-12-29T13:05:38.969042Z",
     "iopub.status.idle": "2023-12-29T13:05:39.007397Z",
     "shell.execute_reply": "2023-12-29T13:05:39.006347Z"
    },
    "papermill": {
     "duration": 0.049646,
     "end_time": "2023-12-29T13:05:39.009325",
     "exception": false,
     "start_time": "2023-12-29T13:05:38.959679",
     "status": "completed"
    },
    "tags": []
   },
   "outputs": [
    {
     "data": {
      "text/plain": [
       "accessed_date      0.0\n",
       "duration_(secs)    0.0\n",
       "accessed_Ffom      0.0\n",
       "age                0.0\n",
       "gender             0.0\n",
       "country            0.0\n",
       "membership         0.0\n",
       "language           0.0\n",
       "sales              0.0\n",
       "returned           0.0\n",
       "returned_amount    0.0\n",
       "pay_method         0.0\n",
       "dtype: float64"
      ]
     },
     "execution_count": 11,
     "metadata": {},
     "output_type": "execute_result"
    }
   ],
   "source": [
    "missing_proportions = df1.isnull().mean()\n",
    "missing_proportions"
   ]
  },
  {
   "cell_type": "code",
   "execution_count": 12,
   "id": "422a33bf",
   "metadata": {
    "execution": {
     "iopub.execute_input": "2023-12-29T13:05:39.027533Z",
     "iopub.status.busy": "2023-12-29T13:05:39.027217Z",
     "iopub.status.idle": "2023-12-29T13:05:39.032090Z",
     "shell.execute_reply": "2023-12-29T13:05:39.030755Z"
    },
    "papermill": {
     "duration": 0.017566,
     "end_time": "2023-12-29T13:05:39.034557",
     "exception": false,
     "start_time": "2023-12-29T13:05:39.016991",
     "status": "completed"
    },
    "tags": []
   },
   "outputs": [],
   "source": [
    "# Observamos algunas variables antes de proceder a graficar"
   ]
  },
  {
   "cell_type": "code",
   "execution_count": 13,
   "id": "8ab896e1",
   "metadata": {
    "execution": {
     "iopub.execute_input": "2023-12-29T13:05:39.052417Z",
     "iopub.status.busy": "2023-12-29T13:05:39.052078Z",
     "iopub.status.idle": "2023-12-29T13:05:39.064225Z",
     "shell.execute_reply": "2023-12-29T13:05:39.062667Z"
    },
    "papermill": {
     "duration": 0.023971,
     "end_time": "2023-12-29T13:05:39.066769",
     "exception": false,
     "start_time": "2023-12-29T13:05:39.042798",
     "status": "completed"
    },
    "tags": []
   },
   "outputs": [
    {
     "data": {
      "text/plain": [
       "accessed_Ffom\n",
       "Android App        21989\n",
       "Chrome             16259\n",
       "Mozilla Firefox    15306\n",
       "Others             15296\n",
       "IOS App            12435\n",
       "Safari              9479\n",
       "Microsoft Edge      8610\n",
       "SafFRi                83\n",
       "Name: count, dtype: int64"
      ]
     },
     "execution_count": 13,
     "metadata": {},
     "output_type": "execute_result"
    }
   ],
   "source": [
    "df1['accessed_Ffom'].value_counts()"
   ]
  },
  {
   "cell_type": "code",
   "execution_count": 14,
   "id": "70197e99",
   "metadata": {
    "execution": {
     "iopub.execute_input": "2023-12-29T13:05:39.084063Z",
     "iopub.status.busy": "2023-12-29T13:05:39.083735Z",
     "iopub.status.idle": "2023-12-29T13:05:39.088576Z",
     "shell.execute_reply": "2023-12-29T13:05:39.087379Z"
    },
    "papermill": {
     "duration": 0.015974,
     "end_time": "2023-12-29T13:05:39.090726",
     "exception": false,
     "start_time": "2023-12-29T13:05:39.074752",
     "status": "completed"
    },
    "tags": []
   },
   "outputs": [],
   "source": [
    "# Safari y SafFRi (creo son el mismo navegador) procedo a corregirlo."
   ]
  },
  {
   "cell_type": "code",
   "execution_count": 15,
   "id": "575da060",
   "metadata": {
    "execution": {
     "iopub.execute_input": "2023-12-29T13:05:39.107883Z",
     "iopub.status.busy": "2023-12-29T13:05:39.107543Z",
     "iopub.status.idle": "2023-12-29T13:05:39.126039Z",
     "shell.execute_reply": "2023-12-29T13:05:39.125364Z"
    },
    "papermill": {
     "duration": 0.028882,
     "end_time": "2023-12-29T13:05:39.127592",
     "exception": false,
     "start_time": "2023-12-29T13:05:39.098710",
     "status": "completed"
    },
    "tags": []
   },
   "outputs": [
    {
     "data": {
      "text/plain": [
       "accessed_Ffom\n",
       "Android App        21989\n",
       "Chrome             16259\n",
       "Mozilla Firefox    15306\n",
       "Others             15296\n",
       "IOS App            12435\n",
       "Safari              9562\n",
       "Microsoft Edge      8610\n",
       "Name: count, dtype: int64"
      ]
     },
     "execution_count": 15,
     "metadata": {},
     "output_type": "execute_result"
    }
   ],
   "source": [
    "# Reemplazar 'SafFRi' con 'Safari'\n",
    "df1['accessed_Ffom'].replace('SafFRi', 'Safari', inplace=True)\n",
    "df1['accessed_Ffom'].value_counts()"
   ]
  },
  {
   "cell_type": "code",
   "execution_count": 16,
   "id": "ac79169b",
   "metadata": {
    "execution": {
     "iopub.execute_input": "2023-12-29T13:05:39.143724Z",
     "iopub.status.busy": "2023-12-29T13:05:39.143423Z",
     "iopub.status.idle": "2023-12-29T13:05:39.154764Z",
     "shell.execute_reply": "2023-12-29T13:05:39.153861Z"
    },
    "papermill": {
     "duration": 0.021383,
     "end_time": "2023-12-29T13:05:39.156492",
     "exception": false,
     "start_time": "2023-12-29T13:05:39.135109",
     "status": "completed"
    },
    "tags": []
   },
   "outputs": [
    {
     "data": {
      "text/plain": [
       "gender\n",
       "Female     50682\n",
       "Male       34032\n",
       "Unknown    14743\n",
       "Name: count, dtype: int64"
      ]
     },
     "execution_count": 16,
     "metadata": {},
     "output_type": "execute_result"
    }
   ],
   "source": [
    "df1['gender'].value_counts()"
   ]
  },
  {
   "cell_type": "code",
   "execution_count": 17,
   "id": "6c6523a1",
   "metadata": {
    "execution": {
     "iopub.execute_input": "2023-12-29T13:05:39.173675Z",
     "iopub.status.busy": "2023-12-29T13:05:39.173310Z",
     "iopub.status.idle": "2023-12-29T13:05:39.185680Z",
     "shell.execute_reply": "2023-12-29T13:05:39.184502Z"
    },
    "papermill": {
     "duration": 0.023955,
     "end_time": "2023-12-29T13:05:39.188360",
     "exception": false,
     "start_time": "2023-12-29T13:05:39.164405",
     "status": "completed"
    },
    "tags": []
   },
   "outputs": [
    {
     "data": {
      "text/plain": [
       "membership\n",
       "Premium          54847\n",
       "Normal           29867\n",
       "Not Logged In    14743\n",
       "Name: count, dtype: int64"
      ]
     },
     "execution_count": 17,
     "metadata": {},
     "output_type": "execute_result"
    }
   ],
   "source": [
    "df1['membership'].value_counts()"
   ]
  },
  {
   "cell_type": "code",
   "execution_count": 18,
   "id": "e9fc78ad",
   "metadata": {
    "execution": {
     "iopub.execute_input": "2023-12-29T13:05:39.205664Z",
     "iopub.status.busy": "2023-12-29T13:05:39.205322Z",
     "iopub.status.idle": "2023-12-29T13:05:39.216322Z",
     "shell.execute_reply": "2023-12-29T13:05:39.215407Z"
    },
    "papermill": {
     "duration": 0.022,
     "end_time": "2023-12-29T13:05:39.218293",
     "exception": false,
     "start_time": "2023-12-29T13:05:39.196293",
     "status": "completed"
    },
    "tags": []
   },
   "outputs": [
    {
     "data": {
      "text/plain": [
       "pay_method\n",
       "Cash           41815\n",
       "Credit Card    30518\n",
       "Debit Card     15823\n",
       "Others         11301\n",
       "Name: count, dtype: int64"
      ]
     },
     "execution_count": 18,
     "metadata": {},
     "output_type": "execute_result"
    }
   ],
   "source": [
    "df1['pay_method'].value_counts()"
   ]
  },
  {
   "cell_type": "code",
   "execution_count": 19,
   "id": "2c06eda9",
   "metadata": {
    "execution": {
     "iopub.execute_input": "2023-12-29T13:05:39.237619Z",
     "iopub.status.busy": "2023-12-29T13:05:39.237193Z",
     "iopub.status.idle": "2023-12-29T13:05:39.241562Z",
     "shell.execute_reply": "2023-12-29T13:05:39.240552Z"
    },
    "papermill": {
     "duration": 0.017037,
     "end_time": "2023-12-29T13:05:39.243512",
     "exception": false,
     "start_time": "2023-12-29T13:05:39.226475",
     "status": "completed"
    },
    "tags": []
   },
   "outputs": [],
   "source": [
    "# GRAFICOS"
   ]
  },
  {
   "cell_type": "code",
   "execution_count": 20,
   "id": "02ece9c4",
   "metadata": {
    "execution": {
     "iopub.execute_input": "2023-12-29T13:05:39.262041Z",
     "iopub.status.busy": "2023-12-29T13:05:39.261698Z",
     "iopub.status.idle": "2023-12-29T13:05:39.561029Z",
     "shell.execute_reply": "2023-12-29T13:05:39.559789Z"
    },
    "papermill": {
     "duration": 0.311352,
     "end_time": "2023-12-29T13:05:39.563505",
     "exception": false,
     "start_time": "2023-12-29T13:05:39.252153",
     "status": "completed"
    },
    "tags": []
   },
   "outputs": [
    {
     "data": {
      "image/png": "[encoded data removed]",
      "text/plain": [
       "<Figure size 1000x600 with 1 Axes>"
      ]
     },
     "metadata": {},
     "output_type": "display_data"
    }
   ],
   "source": [
    "plt.figure(figsize=(10, 6))\n",
    "\n",
    "sns.countplot(data=df1, x='accessed_Ffom', palette='viridis', order=df1['accessed_Ffom'].value_counts().index)\n",
    "\n",
    "plt.xlabel('Fuente de Acceso')\n",
    "plt.ylabel('Cantidad de Accesos')\n",
    "plt.title('Cantidad de Accesos desde diferentes fuentes')\n",
    "\n",
    "plt.xticks(rotation=45, ha='right')\n",
    "plt.tight_layout()\n",
    "plt.show()"
   ]
  },
  {
   "cell_type": "code",
   "execution_count": 21,
   "id": "6a4a4895",
   "metadata": {
    "execution": {
     "iopub.execute_input": "2023-12-29T13:05:39.582146Z",
     "iopub.status.busy": "2023-12-29T13:05:39.581770Z",
     "iopub.status.idle": "2023-12-29T13:05:39.586767Z",
     "shell.execute_reply": "2023-12-29T13:05:39.585530Z"
    },
    "papermill": {
     "duration": 0.01675,
     "end_time": "2023-12-29T13:05:39.588944",
     "exception": false,
     "start_time": "2023-12-29T13:05:39.572194",
     "status": "completed"
    },
    "tags": []
   },
   "outputs": [],
   "source": [
    "# La plataforma mas utilizada para ingresar es la aplicacion de Android, \n",
    "# donde le siguen Google Chrome y por ultimo Mozilla."
   ]
  },
  {
   "cell_type": "code",
   "execution_count": 22,
   "id": "6b8db0d2",
   "metadata": {
    "execution": {
     "iopub.execute_input": "2023-12-29T13:05:39.608432Z",
     "iopub.status.busy": "2023-12-29T13:05:39.608090Z",
     "iopub.status.idle": "2023-12-29T13:05:39.765703Z",
     "shell.execute_reply": "2023-12-29T13:05:39.764672Z"
    },
    "papermill": {
     "duration": 0.170187,
     "end_time": "2023-12-29T13:05:39.768044",
     "exception": false,
     "start_time": "2023-12-29T13:05:39.597857",
     "status": "completed"
    },
    "tags": []
   },
   "outputs": [
    {
     "data": {
      "image/png": "[encoded data removed]",
      "text/plain": [
       "<Figure size 600x600 with 1 Axes>"
      ]
     },
     "metadata": {},
     "output_type": "display_data"
    }
   ],
   "source": [
    "cantidad_hombres = (df1['gender'] == 'Male').sum()\n",
    "cantidad_mujeres = (df1['gender'] == 'Female').sum()\n",
    "\n",
    "etiquetas = ['Hombres', 'Mujeres']\n",
    "valores = [cantidad_hombres, cantidad_mujeres]\n",
    "\n",
    "plt.figure(figsize=(6, 6))\n",
    "plt.pie(valores, labels=etiquetas, autopct='%1.1f%%', colors=['skyblue', 'lightpink'], startangle=140)\n",
    "\n",
    "plt.title('Proporción de Hombres y Mujeres')\n",
    "\n",
    "plt.axis('equal')  \n",
    "plt.tight_layout()\n",
    "plt.show()"
   ]
  },
  {
   "cell_type": "code",
   "execution_count": 23,
   "id": "c1ff7503",
   "metadata": {
    "execution": {
     "iopub.execute_input": "2023-12-29T13:05:39.793106Z",
     "iopub.status.busy": "2023-12-29T13:05:39.792707Z",
     "iopub.status.idle": "2023-12-29T13:05:39.796626Z",
     "shell.execute_reply": "2023-12-29T13:05:39.795851Z"
    },
    "papermill": {
     "duration": 0.01876,
     "end_time": "2023-12-29T13:05:39.798535",
     "exception": false,
     "start_time": "2023-12-29T13:05:39.779775",
     "status": "completed"
    },
    "tags": []
   },
   "outputs": [],
   "source": [
    "# Hay un predominio notorio en cuanto al genero femenino por encima del masculino. "
   ]
  },
  {
   "cell_type": "code",
   "execution_count": 24,
   "id": "925269fb",
   "metadata": {
    "execution": {
     "iopub.execute_input": "2023-12-29T13:05:39.823414Z",
     "iopub.status.busy": "2023-12-29T13:05:39.822859Z",
     "iopub.status.idle": "2023-12-29T13:05:40.090235Z",
     "shell.execute_reply": "2023-12-29T13:05:40.089219Z"
    },
    "papermill": {
     "duration": 0.281791,
     "end_time": "2023-12-29T13:05:40.092015",
     "exception": false,
     "start_time": "2023-12-29T13:05:39.810224",
     "status": "completed"
    },
    "tags": []
   },
   "outputs": [
    {
     "data": {
      "image/png": "[encoded data removed]",
      "text/plain": [
       "<Figure size 1000x600 with 1 Axes>"
      ]
     },
     "metadata": {},
     "output_type": "display_data"
    }
   ],
   "source": [
    "plt.figure(figsize=(10, 6))\n",
    "\n",
    "sns.countplot(data=df1, x='pay_method', palette='viridis', order=df1['pay_method'].value_counts().index)\n",
    "\n",
    "plt.xlabel('Medio de pago')\n",
    "plt.ylabel('Cantidad de veces utilizado')\n",
    "plt.title('Cantidad de Medios de pago utilizado')\n",
    "\n",
    "plt.xticks(rotation=45, ha='right')\n",
    "plt.tight_layout()\n",
    "plt.show()"
   ]
  },
  {
   "cell_type": "code",
   "execution_count": 25,
   "id": "89bef5f9",
   "metadata": {
    "execution": {
     "iopub.execute_input": "2023-12-29T13:05:40.111609Z",
     "iopub.status.busy": "2023-12-29T13:05:40.111308Z",
     "iopub.status.idle": "2023-12-29T13:05:40.116093Z",
     "shell.execute_reply": "2023-12-29T13:05:40.114776Z"
    },
    "papermill": {
     "duration": 0.016784,
     "end_time": "2023-12-29T13:05:40.117984",
     "exception": false,
     "start_time": "2023-12-29T13:05:40.101200",
     "status": "completed"
    },
    "tags": []
   },
   "outputs": [],
   "source": [
    "# El efectivo se erige como la opcion mas utilizada para el pago. Le sigue la tarjeta de credito.\n",
    "# Completando el top 3 se ubica la opcion de pago con debito."
   ]
  },
  {
   "cell_type": "code",
   "execution_count": 26,
   "id": "f22a6392",
   "metadata": {
    "execution": {
     "iopub.execute_input": "2023-12-29T13:05:40.137645Z",
     "iopub.status.busy": "2023-12-29T13:05:40.137298Z",
     "iopub.status.idle": "2023-12-29T13:05:40.434978Z",
     "shell.execute_reply": "2023-12-29T13:05:40.434002Z"
    },
    "papermill": {
     "duration": 0.310128,
     "end_time": "2023-12-29T13:05:40.437224",
     "exception": false,
     "start_time": "2023-12-29T13:05:40.127096",
     "status": "completed"
    },
    "tags": []
   },
   "outputs": [
    {
     "data": {
      "image/png": "[encoded data removed]",
      "text/plain": [
       "<Figure size 1200x800 with 1 Axes>"
      ]
     },
     "metadata": {},
     "output_type": "display_data"
    }
   ],
   "source": [
    "paises = df1['country'].value_counts().head(5)\n",
    "\n",
    "plt.figure(figsize=(12, 8))\n",
    "paises.plot(kind='bar', color='skyblue')\n",
    "\n",
    "plt.xlabel('Países')\n",
    "plt.ylabel('Cantidad de Registros')\n",
    "plt.title('Cantidad de Registros por País')\n",
    "plt.xticks(rotation=45, ha='right')\n",
    "\n",
    "plt.tight_layout()\n",
    "plt.show()"
   ]
  },
  {
   "cell_type": "code",
   "execution_count": 27,
   "id": "c760079f",
   "metadata": {
    "execution": {
     "iopub.execute_input": "2023-12-29T13:05:40.459417Z",
     "iopub.status.busy": "2023-12-29T13:05:40.459067Z",
     "iopub.status.idle": "2023-12-29T13:05:40.463500Z",
     "shell.execute_reply": "2023-12-29T13:05:40.462556Z"
    },
    "papermill": {
     "duration": 0.019145,
     "end_time": "2023-12-29T13:05:40.466163",
     "exception": false,
     "start_time": "2023-12-29T13:05:40.447018",
     "status": "completed"
    },
    "tags": []
   },
   "outputs": [],
   "source": [
    "# Los cinco paises que mayor cantidad de registros poseen en la plataforma. "
   ]
  },
  {
   "cell_type": "code",
   "execution_count": 28,
   "id": "1045a20c",
   "metadata": {
    "execution": {
     "iopub.execute_input": "2023-12-29T13:05:40.538490Z",
     "iopub.status.busy": "2023-12-29T13:05:40.538130Z",
     "iopub.status.idle": "2023-12-29T13:05:40.869354Z",
     "shell.execute_reply": "2023-12-29T13:05:40.868295Z"
    },
    "papermill": {
     "duration": 0.34466,
     "end_time": "2023-12-29T13:05:40.871985",
     "exception": false,
     "start_time": "2023-12-29T13:05:40.527325",
     "status": "completed"
    },
    "tags": []
   },
   "outputs": [
    {
     "data": {
      "text/plain": [
       "<Figure size 1000x600 with 0 Axes>"
      ]
     },
     "metadata": {},
     "output_type": "display_data"
    },
    {
     "data": {
      "image/png": "[encoded data removed]",
      "text/plain": [
       "<Figure size 640x480 with 1 Axes>"
      ]
     },
     "metadata": {},
     "output_type": "display_data"
    }
   ],
   "source": [
    "top_5_countries = df['country'].value_counts().head(5).index.tolist()\n",
    "\n",
    "df_top_5_countries = df[df['country'].isin(top_5_countries)]\n",
    "\n",
    "hombres_mujeres_por_pais = df_top_5_countries.groupby(['country', 'gender']).size().unstack(fill_value=0)\n",
    "\n",
    "plt.figure(figsize=(10, 6))\n",
    "hombres_mujeres_por_pais.plot(kind='bar', stacked=True, cmap='coolwarm')\n",
    "\n",
    "plt.xlabel('Países')\n",
    "plt.ylabel('Cantidad de Registros')\n",
    "plt.title('Distribución de Hombres y Mujeres en los 5 Países con más Registros')\n",
    "plt.legend(title='Género')\n",
    "\n",
    "plt.xticks(rotation=45, ha='right')\n",
    "plt.tight_layout()\n",
    "plt.show()\n"
   ]
  },
  {
   "cell_type": "code",
   "execution_count": 29,
   "id": "bf25bfd4",
   "metadata": {
    "execution": {
     "iopub.execute_input": "2023-12-29T13:05:40.893961Z",
     "iopub.status.busy": "2023-12-29T13:05:40.893642Z",
     "iopub.status.idle": "2023-12-29T13:05:40.898141Z",
     "shell.execute_reply": "2023-12-29T13:05:40.896983Z"
    },
    "papermill": {
     "duration": 0.01749,
     "end_time": "2023-12-29T13:05:40.899856",
     "exception": false,
     "start_time": "2023-12-29T13:05:40.882366",
     "status": "completed"
    },
    "tags": []
   },
   "outputs": [],
   "source": [
    "# Los 5 paises con mas registros en base al genero de cada persona.\n",
    "# Oportunidad para realizar marketing en base a estos datos."
   ]
  },
  {
   "cell_type": "code",
   "execution_count": 30,
   "id": "5d0ef74b",
   "metadata": {
    "execution": {
     "iopub.execute_input": "2023-12-29T13:05:40.922602Z",
     "iopub.status.busy": "2023-12-29T13:05:40.922222Z",
     "iopub.status.idle": "2023-12-29T13:05:41.055564Z",
     "shell.execute_reply": "2023-12-29T13:05:41.054543Z"
    },
    "papermill": {
     "duration": 0.147525,
     "end_time": "2023-12-29T13:05:41.057965",
     "exception": false,
     "start_time": "2023-12-29T13:05:40.910440",
     "status": "completed"
    },
    "tags": []
   },
   "outputs": [
    {
     "data": {
      "image/png": "[encoded data removed]",
      "text/plain": [
       "<Figure size 500x500 with 1 Axes>"
      ]
     },
     "metadata": {},
     "output_type": "display_data"
    }
   ],
   "source": [
    "cantidad_premium = (df1['membership'] == 'Premium').sum()\n",
    "cantidad_normal = (df1['membership'] == 'Normal').sum()\n",
    "\n",
    "etiquetas = ['Premium', 'Normal']\n",
    "valores = [cantidad_premium, cantidad_normal]\n",
    "\n",
    "plt.figure(figsize=(5, 5))\n",
    "plt.pie(valores, labels=etiquetas, autopct='%1.1f%%', startangle=140)\n",
    "\n",
    "plt.title('Proporción de membresias')\n",
    "\n",
    "plt.axis('equal')  \n",
    "plt.tight_layout()\n",
    "plt.show()"
   ]
  },
  {
   "cell_type": "code",
   "execution_count": 31,
   "id": "c964d55a",
   "metadata": {
    "execution": {
     "iopub.execute_input": "2023-12-29T13:05:41.090294Z",
     "iopub.status.busy": "2023-12-29T13:05:41.089160Z",
     "iopub.status.idle": "2023-12-29T13:05:41.093336Z",
     "shell.execute_reply": "2023-12-29T13:05:41.092660Z"
    },
    "papermill": {
     "duration": 0.022786,
     "end_time": "2023-12-29T13:05:41.095098",
     "exception": false,
     "start_time": "2023-12-29T13:05:41.072312",
     "status": "completed"
    },
    "tags": []
   },
   "outputs": [],
   "source": [
    "# Existe un claro predominio de las personas que tienen una suscripcion premium frente a la normal."
   ]
  }
 ],
 "metadata": {
  "kaggle": {
   "accelerator": "none",
   "dataSources": [
    {
     "datasetId": 4132434,
     "sourceId": 7211086,
     "sourceType": "datasetVersion"
    }
   ],
   "dockerImageVersionId": 30626,
   "isGpuEnabled": false,
   "isInternetEnabled": false,
   "language": "python",
   "sourceType": "notebook"
  },
  "kernelspec": {
   "display_name": "Python 3",
   "language": "python",
   "name": "python3"
  },
  "language_info": {
   "codemirror_mode": {
    "name": "ipython",
    "version": 3
   },
   "file_extension": ".py",
   "mimetype": "text/x-python",
   "name": "python",
   "nbconvert_exporter": "python",
   "pygments_lexer": "ipython3",
   "version": "3.10.12"
  },
  "papermill": {
   "default_parameters": {},
   "duration": 7.995512,
   "end_time": "2023-12-29T13:05:41.628889",
   "environment_variables": {},
   "exception": null,
   "input_path": "__notebook__.ipynb",
   "output_path": "__notebook__.ipynb",
   "parameters": {},
   "start_time": "2023-12-29T13:05:33.633377",
   "version": "2.4.0"
  }
 },
 "nbformat": 4,
 "nbformat_minor": 5
}
